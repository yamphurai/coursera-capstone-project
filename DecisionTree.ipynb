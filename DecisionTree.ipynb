{
 "cells": [
  {
   "cell_type": "markdown",
   "id": "fc586fa8-e44f-4de4-8eaa-397736042e91",
   "metadata": {},
   "source": [
    "#Decision Tree for loan acceptance\n"
   ]
  },
  {
   "cell_type": "code",
   "execution_count": 1,
   "id": "df4067a4-2e4a-4140-a342-5a66e59bba41",
   "metadata": {},
   "outputs": [],
   "source": [
    "import numpy as np \n",
    "import pandas as pd\n",
    "from sklearn.tree import DecisionTreeClassifier\n"
   ]
  },
  {
   "cell_type": "code",
   "execution_count": 39,
   "id": "918a67b7-12ba-40ff-907f-5af3891d6d0c",
   "metadata": {},
   "outputs": [],
   "source": [
    "my_data = pd.read_csv(\"loan_data.csv\", delimiter=\",\")\n"
   ]
  },
  {
   "cell_type": "code",
   "execution_count": 41,
   "id": "c3e16119-5339-4393-8a4f-84627de85155",
   "metadata": {},
   "outputs": [],
   "source": [
    "#did not include ID \n",
    "X = my_data[['Gender', 'Married', 'Dependents', 'Education','Self_Employed','ApplicantIncome','CoapplicantIncome','LoanAmount','Loan_Amount_Term','Credit_History','Property_Area','Loan_Status']].values\n"
   ]
  },
  {
   "cell_type": "code",
   "execution_count": 42,
   "id": "72f4b7e0-e4c0-4309-af39-6a2a439f1857",
   "metadata": {},
   "outputs": [],
   "source": [
    "from sklearn import preprocessing\n",
    "num_gender = preprocessing.LabelEncoder()\n",
    "num_gender.fit(['Female','Male'])\n",
    "X[:,0] = num_gender.transform(X[:,0])"
   ]
  },
  {
   "cell_type": "code",
   "execution_count": 43,
   "id": "765cf623-d985-4fbf-90d3-4ca2ca6099f8",
   "metadata": {},
   "outputs": [],
   "source": [
    "num_maritalstatus = preprocessing.LabelEncoder()\n",
    "num_maritalstatus.fit(['Yes','No'])\n",
    "X[:,1] = num_maritalstatus.transform(X[:,1])"
   ]
  },
  {
   "cell_type": "code",
   "execution_count": 44,
   "id": "2ecb4cd4-a056-4c9a-846d-745b82ba29c6",
   "metadata": {},
   "outputs": [],
   "source": [
    "num_education = preprocessing.LabelEncoder()\n",
    "num_education.fit(['Graduate','Not Graduate'])\n",
    "X[:,3] = num_education.transform(X[:,3])"
   ]
  },
  {
   "cell_type": "code",
   "execution_count": 45,
   "id": "5364ca53-57cf-4962-bbc5-dfaf8c931ad6",
   "metadata": {},
   "outputs": [],
   "source": [
    "num_selfemployed = preprocessing.LabelEncoder()\n",
    "num_selfemployed.fit(['YES','NO'])\n",
    "X[:,4] = num_selfemployed.transform(X[:,4])"
   ]
  },
  {
   "cell_type": "code",
   "execution_count": 46,
   "id": "5db4f663-ea95-433f-bca7-7a5174461d7e",
   "metadata": {},
   "outputs": [],
   "source": [
    "num_propertyarea = preprocessing.LabelEncoder()\n",
    "num_propertyarea.fit(['Urban','Semiurban','Rural'])\n",
    "X[:,10] = num_propertyarea.transform(X[:,10])"
   ]
  },
  {
   "cell_type": "code",
   "execution_count": 47,
   "id": "b8beffac-e4ec-4e56-b2c4-0b7ad0f06387",
   "metadata": {},
   "outputs": [],
   "source": [
    "num_loanstatus = preprocessing.LabelEncoder()\n",
    "num_loanstatus.fit(['Y','N'])\n",
    "X[:,11] = num_loanstatus.transform(X[:,11])"
   ]
  },
  {
   "cell_type": "code",
   "execution_count": 51,
   "id": "2b41afc7-0fa3-42b5-ac40-3ae9045a6f11",
   "metadata": {},
   "outputs": [],
   "source": [
    "#filling in target value\n",
    "y = my_data[\"Loan_Status\"]\n"
   ]
  },
  {
   "cell_type": "code",
   "execution_count": 52,
   "id": "00ee6bda-40c4-4222-b0f5-078b70aac9d6",
   "metadata": {},
   "outputs": [],
   "source": [
    "#setup train vs test data\n",
    "from sklearn.model_selection import train_test_split"
   ]
  },
  {
   "cell_type": "code",
   "execution_count": 53,
   "id": "dd6f264f-2beb-4196-b270-72404a11df6c",
   "metadata": {},
   "outputs": [],
   "source": [
    "X_trainset, X_testset, y_trainset, y_testset = train_test_split(X, y, test_size=0.3, random_state=3)"
   ]
  },
  {
   "cell_type": "code",
   "execution_count": 55,
   "id": "f9988cb0-5686-457a-96f7-0f2c68fef48e",
   "metadata": {},
   "outputs": [],
   "source": [
    "#sepcify randomness/entropy\n",
    "LoanTree = DecisionTreeClassifier(criterion=\"entropy\", max_depth = 4)\n"
   ]
  },
  {
   "cell_type": "code",
   "execution_count": 57,
   "id": "0fe91f1e-17c9-404a-8d85-e4e585c4301d",
   "metadata": {},
   "outputs": [
    {
     "name": "stderr",
     "output_type": "stream",
     "text": [
      "/home/jupyterlab/conda/envs/python/lib/python3.7/site-packages/sklearn/tree/tree.py:149: DeprecationWarning: `np.int` is a deprecated alias for the builtin `int`. To silence this warning, use `int` by itself. Doing this will not modify any behavior and is safe. When replacing `np.int`, you may wish to use e.g. `np.int64` or `np.int32` to specify the precision. If you wish to review your current use, check the release note link for additional information.\n",
      "Deprecated in NumPy 1.20; for more details and guidance: https://numpy.org/devdocs/release/1.20.0-notes.html#deprecations\n",
      "  y_encoded = np.zeros(y.shape, dtype=np.int)\n"
     ]
    },
    {
     "data": {
      "text/plain": [
       "DecisionTreeClassifier(class_weight=None, criterion='entropy', max_depth=4,\n",
       "            max_features=None, max_leaf_nodes=None,\n",
       "            min_impurity_decrease=0.0, min_impurity_split=None,\n",
       "            min_samples_leaf=1, min_samples_split=2,\n",
       "            min_weight_fraction_leaf=0.0, presort=False, random_state=None,\n",
       "            splitter='best')"
      ]
     },
     "execution_count": 57,
     "metadata": {},
     "output_type": "execute_result"
    }
   ],
   "source": [
    "#fitting the input and target values\n",
    "LoanTree.fit(X_trainset,y_trainset)"
   ]
  },
  {
   "cell_type": "code",
   "execution_count": 60,
   "id": "d2e85fc2-9771-441e-86f7-58586e88e580",
   "metadata": {},
   "outputs": [],
   "source": [
    "#making prection\n",
    "predictTree = LoanTree.predict(X_testset)"
   ]
  },
  {
   "cell_type": "code",
   "execution_count": 62,
   "id": "84eaf7c4-e998-415e-b0d2-8c6e7ea6d543",
   "metadata": {},
   "outputs": [
    {
     "name": "stdout",
     "output_type": "stream",
     "text": [
      "DecisionTrees's Accuracy:  1.0\n"
     ]
    }
   ],
   "source": [
    "#checking accurary of the model (got accuracy = 1)\n",
    "from sklearn import metrics\n",
    "import matplotlib.pyplot as plt\n",
    "print(\"DecisionTrees's Accuracy: \", metrics.accuracy_score(y_testset, predictTree))"
   ]
  },
  {
   "cell_type": "code",
   "execution_count": 63,
   "id": "aa6c442c-d626-4b47-ae7d-93e528df1d5a",
   "metadata": {},
   "outputs": [],
   "source": [
    "#time to visualization\n",
    "from  io import StringIO\n",
    "import pydotplus\n",
    "import matplotlib.image as mpimg\n",
    "from sklearn import tree\n",
    "%matplotlib inline "
   ]
  },
  {
   "cell_type": "code",
   "execution_count": null,
   "id": "12fd7b0a-834f-46ec-8097-36d4ca333110",
   "metadata": {},
   "outputs": [],
   "source": [
    "dot_data = StringIO()\n",
    "filename = \"LoanTree.jpg\"\n",
    "featureNames = my_data.columns[0:10]\n",
    "out=tree.export_graphviz(LoanTree,feature_names=featureNames, out_file=dot_data, class_names= np.unique(y_trainset), filled=True,  special_characters=True,rotate=False)  \n",
    "graph = pydotplus.graph_from_dot_data(dot_data.getvalue())  \n",
    "\n",
    "graph.write_png(filename)\n",
    "img = mpimg.imread(filename)\n",
    "plt.figure(figsize=(100, 200))\n",
    "plt.imshow(img,interpolation='nearest')"
   ]
  }
 ],
 "metadata": {
  "kernelspec": {
   "display_name": "Python",
   "language": "python",
   "name": "conda-env-python-py"
  },
  "language_info": {
   "codemirror_mode": {
    "name": "ipython",
    "version": 3
   },
   "file_extension": ".py",
   "mimetype": "text/x-python",
   "name": "python",
   "nbconvert_exporter": "python",
   "pygments_lexer": "ipython3",
   "version": "3.7.12"
  }
 },
 "nbformat": 4,
 "nbformat_minor": 5
}
